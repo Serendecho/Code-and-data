{
 "cells": [
  {
   "cell_type": "markdown",
   "id": "421448f5",
   "metadata": {},
   "source": [
    "# 根据已经获得的诺奖得主的ID和姓名对应关系，找出其合作者信息"
   ]
  },
  {
   "cell_type": "markdown",
   "id": "a6c91957",
   "metadata": {},
   "source": [
    "## （1）导入需要的库"
   ]
  },
  {
   "cell_type": "code",
   "execution_count": 1,
   "id": "724b8105",
   "metadata": {},
   "outputs": [
    {
     "name": "stderr",
     "output_type": "stream",
     "text": [
      "D:\\Anaconda\\lib\\site-packages\\fuzzywuzzy\\fuzz.py:11: UserWarning: Using slow pure-python SequenceMatcher. Install python-Levenshtein to remove this warning\n",
      "  warnings.warn('Using slow pure-python SequenceMatcher. Install python-Levenshtein to remove this warning')\n"
     ]
    }
   ],
   "source": [
    "import json\n",
    "import re\n",
    "from fuzzywuzzy import fuzz\n",
    "from fuzzywuzzy import process"
   ]
  },
  {
   "cell_type": "markdown",
   "id": "77aaa3b5",
   "metadata": {},
   "source": [
    "## （2）读取文件"
   ]
  },
  {
   "cell_type": "code",
   "execution_count": 2,
   "id": "c5a11d0a",
   "metadata": {},
   "outputs": [],
   "source": [
    "with open('authors_disambiguation_id2doi_addDOI.json', 'r', encoding='utf-8-sig') as fr_1:\n",
    "    authors_disambiguation_dict = json.load(fr_1)\n",
    "\n",
    "with open('allJournals_doi2authorsName.json', 'r', encoding='utf-8-sig') as fr_2:\n",
    "    allPaper_doi2authorsName_dict = json.load(fr_2)"
   ]
  },
  {
   "cell_type": "markdown",
   "id": "41a761c4",
   "metadata": {},
   "source": [
    "## （3）创建函数"
   ]
  },
  {
   "cell_type": "markdown",
   "id": "f1e20642",
   "metadata": {},
   "source": [
    "#### 判断两个姓名的姓、名的首字母是否一致"
   ]
  },
  {
   "cell_type": "code",
   "execution_count": 5,
   "id": "ff6c0276",
   "metadata": {},
   "outputs": [],
   "source": [
    "def judge_sameCapital_funct(given_name, choice_name):\n",
    "    \n",
    "    bool_char = False\n",
    "    # 分割符为\",\" \".\" \" \"，且其后可以跟着任意个空白字符\" \"\n",
    "    pattern = r'[,.\\s]\\s*'\n",
    "    given = re.split(pattern, given_name)\n",
    "    choice = re.split(pattern, choice_name)\n",
    "    given_spl = [e for e in given if (e!='') & (e!='jr')]\n",
    "    choice_spl = [e for e in choice if (e!='') & (e!='jr')]\n",
    "    # 获取两个姓名的长度\n",
    "    given_len = len(given_spl)\n",
    "    choice_len = len(choice_spl)\n",
    "    \n",
    "    # 获取两个姓名分别的firstname、lastname \n",
    "    given_first = given_spl[0]\n",
    "    given_last = given_spl[-1]\n",
    "    choice_first = choice_spl[0]\n",
    "    choice_last = choice_spl[-1]\n",
    "    given_cap = [e[0] for e in given_spl]\n",
    "    choice_cap = [e[0] for e in choice_spl]\n",
    "    \n",
    "    ## 判断分割后两个列表中的元素是否相等\n",
    "    if given_spl == choice_spl:\n",
    "        bool_char = True\n",
    "    elif given_len == choice_len: \n",
    "        if (given_cap == choice_cap) & (given_last == choice_last):\n",
    "            bool_char = True\n",
    "        else:\n",
    "            bool_char = False\n",
    "    else:\n",
    "        if (given_first==choice_first) & (given_last==choice_last):\n",
    "            bool_char = True\n",
    "        elif (given_first[0]==choice_first[0]) & (given_last==choice_last):\n",
    "            bool_char = True\n",
    "        else:\n",
    "            bool_char = False\n",
    "            \n",
    "    return bool_char"
   ]
  },
  {
   "cell_type": "markdown",
   "id": "632ba15f",
   "metadata": {},
   "source": [
    "#### 利用fuzzywuzzy算法，找出去重文件中，与所给姓名最相似的姓名及其ID"
   ]
  },
  {
   "cell_type": "code",
   "execution_count": 6,
   "id": "193d5563",
   "metadata": {},
   "outputs": [],
   "source": [
    "def fuzzy_match_func(given_name, choices_authorDict_list):\n",
    "    # 存储待选者ID和相似度的字典{ID：相似度}\n",
    "    id2score_dict = {}\n",
    "    \n",
    "    # 遍历所有待选作者\n",
    "    for dict_i in choices_authorDict_list:\n",
    "        name_i = dict_i['author_name']\n",
    "        id_i = dict_i['author_id']\n",
    "        score_i = fuzz.ratio(given_name, name_i)\n",
    "        id2score_dict[id_i] = score_i\n",
    "        \n",
    "    # 遍历最大值\n",
    "    max_id = max(id2score_dict, key=lambda k: id2score_dict[k])\n",
    "        \n",
    "    return max_id"
   ]
  },
  {
   "cell_type": "markdown",
   "id": "45cc6986",
   "metadata": {},
   "source": [
    "#### 根据给的论文doi和该论文的作者姓名列表，获得该论文的作者ID列表"
   ]
  },
  {
   "cell_type": "code",
   "execution_count": 7,
   "id": "a53d467c",
   "metadata": {},
   "outputs": [],
   "source": [
    "def author_name2id_func(paper_doi, authors_name_list):\n",
    "    \n",
    "    authors_id_list = []\n",
    "    \n",
    "    # 将输入的合著者姓名列表中的姓名全部转换为小写\n",
    "    authors_name_list = [e.lower() for e in authors_name_list]\n",
    "    \n",
    "    # 遍历每个作者\n",
    "    for name in authors_name_list:\n",
    "        choices_list = []\n",
    "        for key, value in authors_disambiguation_dict.items():\n",
    "            author_id = key\n",
    "            author_name = value['author_name']\n",
    "            doi_list = value['files_doi']\n",
    "           \n",
    "            # 判断是否在论文列表中\n",
    "            if paper_doi in doi_list:\n",
    "                if name == author_name:\n",
    "                    authors_id_list.append(author_id)\n",
    "                    choices_list = []\n",
    "                    break    \n",
    "                elif judge_sameCapital_funct(name, author_name):\n",
    "                    choices_list.append(value)\n",
    "        \n",
    "        # 列表不为空\n",
    "        if choices_list:\n",
    "            mostMatch_id = fuzzy_match_func(name, choices_list)\n",
    "            authors_id_list.append(mostMatch_id)\n",
    "                    \n",
    "    return authors_id_list"
   ]
  },
  {
   "cell_type": "markdown",
   "id": "b8882127",
   "metadata": {},
   "source": [
    "#### 获取某作者相关论文的所有合作者ID列表"
   ]
  },
  {
   "cell_type": "code",
   "execution_count": null,
   "id": "de824c5b",
   "metadata": {},
   "outputs": [],
   "source": [
    "def authorId_to_collasId_func(author_id_i, authorInfo_dict_i, name_parameter, dict_parameter=None):\n",
    "    collasId_list = []\n",
    "    authorName_json_i = authorInfo_dict_i[name_parameter].lower()\n",
    "    \n",
    "    # 取每个作者对应的论文doi列表\n",
    "    try:\n",
    "        doi_list_i = authorInfo_dict_i[dict_parameter]\n",
    "    except:\n",
    "        print(\"Wrong with author {0} and his information <{1}>\".format(author_id_i, dict_parameter))\n",
    "\n",
    "    for doi_j in doi_list_i:\n",
    "        collasName_list_j = [e.lower() for e in allPaper_doi2authorsName_dict[doi_j]]    \n",
    "        collasName_list_j = [e for e in collasName_list_j if e!=authorName_json_i]\n",
    "        # 如果该篇论文的作者列表不为空\n",
    "        if collasName_list_j:\n",
    "            authorsId_list_j = author_name2id_func(doi_j, collasName_list_j)\n",
    "            collasId_list.extend(authorsId_list_j)\n",
    "    collasId_unique_list = list(set(collasId_list))\n",
    "        \n",
    "    return collasId_unique_list"
   ]
  },
  {
   "cell_type": "code",
   "execution_count": null,
   "id": "6de534f8",
   "metadata": {},
   "outputs": [],
   "source": []
  }
 ],
 "metadata": {
  "kernelspec": {
   "display_name": "Python 3",
   "language": "python",
   "name": "python3"
  },
  "language_info": {
   "codemirror_mode": {
    "name": "ipython",
    "version": 3
   },
   "file_extension": ".py",
   "mimetype": "text/x-python",
   "name": "python",
   "nbconvert_exporter": "python",
   "pygments_lexer": "ipython3",
   "version": "3.8.8"
  }
 },
 "nbformat": 4,
 "nbformat_minor": 5
}
