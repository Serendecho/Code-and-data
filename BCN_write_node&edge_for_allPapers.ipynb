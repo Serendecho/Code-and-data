{
 "cells": [
  {
   "cell_type": "markdown",
   "id": "c1198d30",
   "metadata": {},
   "source": [
    "# 从引用关系文件中获取共同引用关系"
   ]
  },
  {
   "cell_type": "code",
   "execution_count": 1,
   "id": "a4a6105e",
   "metadata": {},
   "outputs": [],
   "source": [
    "import json\n",
    "import pandas as pd\n",
    "import itertools    "
   ]
  },
  {
   "cell_type": "markdown",
   "id": "a1846ea4",
   "metadata": {},
   "source": [
    "### Dataframe分组统计，按cited_id分组"
   ]
  },
  {
   "cell_type": "code",
   "execution_count": 3,
   "id": "58d37e21",
   "metadata": {},
   "outputs": [],
   "source": [
    "path2 = 'allPapers_citation_id2id_dict.json'\n",
    "with open(path2, 'r', encoding='utf-8') as fr_5:\n",
    "    citation_id2id_dict = json.load(fr_5)"
   ]
  },
  {
   "cell_type": "code",
   "execution_count": 4,
   "id": "6434591a",
   "metadata": {},
   "outputs": [],
   "source": [
    "def groupby_citedID_func(index2citation_dict):\n",
    "    # 分组\n",
    "    citation_id2id_data = pd.DataFrame(index2citation_dict.values())\n",
    "    groupby_citedID_data = citation_id2id_data.groupby(['cited_id'])\n",
    "    groupby_list = list(groupby_citedID_data)\n",
    "\n",
    "    groupby_citedID_dict = {}\n",
    "    # 遍历列表中的所有分组数据\n",
    "    for i in range(len(groupby_list)):\n",
    "        data_i = groupby_list[i]\n",
    "        citedID_i = data_i[0]\n",
    "        citingID_list_i = [e for e in data_i[1]['citing_id']]\n",
    "        groupby_citedID_dict[citedID_i] = citingID_list_i\n",
    "        \n",
    "    return groupby_citedID_dict"
   ]
  },
  {
   "cell_type": "code",
   "execution_count": 48,
   "id": "6192d1a9",
   "metadata": {},
   "outputs": [],
   "source": [
    "def groupby_to_cocitation_func(groupby_citedID_dict):\n",
    "    cocitingTuple_list = []\n",
    "\n",
    "    # 遍历统计每两个citing_id之间的共引文献数\n",
    "    for key, value in groupby_citedID_dict.items():\n",
    "        if len(value) >= 2:\n",
    "            combinations_i = [e for e in itertools.combinations(value,2)]\n",
    "            # combinations_list_i = [e for e in combinations_i]\n",
    "            cocitingTuple_list.extend(combinations_i)\n",
    "  \n",
    "    return cocitingTuple_list"
   ]
  },
  {
   "cell_type": "code",
   "execution_count": 49,
   "id": "c4e44fc4",
   "metadata": {},
   "outputs": [],
   "source": [
    "def cociting_data2count_func(cocitingTuple_list):\n",
    "    df = pd.DataFrame(cocitingTuple_list)\n",
    "    # 统计重复行次数（即有共引关系的两个施引文献对的共引次数）\n",
    "    df_count = df.groupby(by=[0, 1], as_index=False).size()\n",
    "    df_count = df_count.rename(columns={0: 'CitingID_1', 1: 'CitingID_2', 'size':'Weight'})\n",
    "    df_count_sorted = df_count.sort_values(by='CitingID_1', ascending=True)\n",
    "    \n",
    "    return df_count_sorted"
   ]
  },
  {
   "cell_type": "code",
   "execution_count": 6,
   "id": "5f73cad6",
   "metadata": {},
   "outputs": [],
   "source": [
    "# 获取共引关系数据\n",
    "groupby_citedID_dict = groupby_citedID_func(citation_id2id_dict)\n",
    "cocitingTuple_list = groupby_to_cocitation_func(groupby_citedID_dict)\n",
    "cocitingData_sorted = cociting_data2count_func(cocitingTuple_list)\n",
    "\n",
    "filePath = 'allPapers_cociting_data.csv'\n",
    "with open(filePath, 'w', newline='', encoding='utf-8') as fw:\n",
    "    cocitingData_sorted.to_csv(fw, index=False)"
   ]
  },
  {
   "cell_type": "code",
   "execution_count": null,
   "id": "15d0adde",
   "metadata": {},
   "outputs": [],
   "source": []
  },
  {
   "cell_type": "code",
   "execution_count": null,
   "id": "01028b20",
   "metadata": {},
   "outputs": [],
   "source": []
  },
  {
   "cell_type": "markdown",
   "id": "a99bb9d3",
   "metadata": {},
   "source": [
    "### Dataframe分组统计，按citing_id分组"
   ]
  },
  {
   "cell_type": "code",
   "execution_count": 2,
   "id": "d136fcea",
   "metadata": {},
   "outputs": [],
   "source": [
    "def groupby_citingID_func(index2citation_dict):\n",
    "    # 将上述字典信息转换为dataframe格式\n",
    "    citation_id2id_data = pd.DataFrame(index2citation_dict.values())\n",
    "    groupby_citingID_data = citation_id2id_data.groupby(['citing_id'])\n",
    "    groupby_list = list(groupby_citingID_data)\n",
    "\n",
    "    groupby_citingID_dict = {}\n",
    "    # 遍历列表中的所有分组数据\n",
    "    for i in range(len(groupby_list)):\n",
    "        data_i = groupby_list[i]\n",
    "        citingID_i = data_i[0]\n",
    "        citedID_list_i = [e for e in data_i[1]['cited_id']]\n",
    "        groupby_citingID_dict[citingID_i] = citedID_list_i\n",
    "        \n",
    "    return groupby_citingID_dict"
   ]
  },
  {
   "cell_type": "code",
   "execution_count": 3,
   "id": "a9189f36",
   "metadata": {},
   "outputs": [],
   "source": [
    "def groupby_to_cocitation_func(citingID_groupby_dict):\n",
    "    citingID_list = [e for e in citingID_groupby_dict.keys()]\n",
    "    \n",
    "    cocitingData_list = []\n",
    "    # 遍历统计每两个citing_id之间的共引文献数\n",
    "    for i in range(len(citingID_list)):\n",
    "        citingID_i = citingID_list[i]\n",
    "        citedID_list_i = citingID_groupby_dict[citingID_i]\n",
    "        ## 引用论文ID_j\n",
    "        for j in range(i+1, len(citingID_list)):\n",
    "            citingID_j = citingID_list[j]\n",
    "            citedID_list_j = citingID_groupby_dict[citingID_j]\n",
    "            # 统计引用论文ID_i和引用论文ID_j的共同引用论文数\n",
    "            same_citedID_ij = list(set(citedID_list_i) & set(citedID_list_j))\n",
    "            same_count_ij = len(same_citedID_ij)\n",
    "            temp = {}\n",
    "            temp['CitingID_1'] = citingID_i\n",
    "            temp['CitingID_2'] = citingID_j\n",
    "            temp['Weight'] = same_count_ij\n",
    "            cocitingData_list.append(temp)\n",
    "  \n",
    "    return cocitingData_list"
   ]
  },
  {
   "cell_type": "code",
   "execution_count": 5,
   "id": "6ab6d2d7",
   "metadata": {},
   "outputs": [],
   "source": [
    "# 将所有引用关系转换为共同引用关系数据\n",
    "groupby_citingID_dict = groupby_citingID_func(citation_id2id_dict)\n",
    "cocitingData_list = groupby_to_cocitation_func(groupby_citingID_dict)\n",
    "cocitingData_df = pd.DataFrame(cocitingData_list)\n",
    "cocitingData_df_sorted = cocitingData_df.sort_values(by='CitingID_1', ascending=True)\n",
    "\n",
    "filePath = './allPapers_cociting_data.csv'\n",
    "with open(filePath, 'w', newline='', encoding='utf-8') as fw:\n",
    "    cocitingData_df_sorted.to_csv(fw, index=False)"
   ]
  },
  {
   "cell_type": "code",
   "execution_count": null,
   "id": "84e20739",
   "metadata": {},
   "outputs": [],
   "source": []
  },
  {
   "cell_type": "code",
   "execution_count": null,
   "id": "ba3c5c42",
   "metadata": {},
   "outputs": [],
   "source": []
  }
 ],
 "metadata": {
  "kernelspec": {
   "display_name": "Python 3",
   "language": "python",
   "name": "python3"
  },
  "language_info": {
   "codemirror_mode": {
    "name": "ipython",
    "version": 3
   },
   "file_extension": ".py",
   "mimetype": "text/x-python",
   "name": "python",
   "nbconvert_exporter": "python",
   "pygments_lexer": "ipython3",
   "version": "3.8.8"
  }
 },
 "nbformat": 4,
 "nbformat_minor": 5
}
