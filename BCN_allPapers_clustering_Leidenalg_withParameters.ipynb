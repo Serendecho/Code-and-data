{
 "cells": [
  {
   "cell_type": "markdown",
   "id": "e9ccd32c",
   "metadata": {},
   "source": [
    "# 使用leiden算法进行全局主题聚类"
   ]
  },
  {
   "cell_type": "code",
   "execution_count": null,
   "id": "93a37a57",
   "metadata": {},
   "outputs": [],
   "source": [
    "import leidenalg\n",
    "import igraph as ig\n",
    "import datatable as dt\n",
    "import pandas as pd"
   ]
  },
  {
   "cell_type": "markdown",
   "id": "ce7b6001",
   "metadata": {},
   "source": [
    "### （1）读取边文件"
   ]
  },
  {
   "cell_type": "code",
   "execution_count": null,
   "id": "ccf2eac9",
   "metadata": {},
   "outputs": [],
   "source": [
    "%%time\n",
    "data = dt.fread('allPapers_cociting_data.csv')\n",
    "data_pd = data.to_pandas()\n",
    "data_pd.columns = ['source', 'target', 'weight']"
   ]
  },
  {
   "cell_type": "markdown",
   "id": "b5b0e6d9",
   "metadata": {},
   "source": [
    "### （2）根据边文件构建网络"
   ]
  },
  {
   "cell_type": "code",
   "execution_count": null,
   "id": "38fbf001",
   "metadata": {},
   "outputs": [],
   "source": [
    "%%time\n",
    "# 根据边文件构建网络\n",
    "G = ig.Graph.DataFrame(data_pd) "
   ]
  },
  {
   "cell_type": "code",
   "execution_count": null,
   "id": "8ea6892b",
   "metadata": {},
   "outputs": [],
   "source": [
    "G.summary()"
   ]
  },
  {
   "cell_type": "markdown",
   "id": "2c9abd74",
   "metadata": {},
   "source": [
    "### （3）获取分辨率配置文件"
   ]
  },
  {
   "cell_type": "code",
   "execution_count": null,
   "id": "deb75b64",
   "metadata": {},
   "outputs": [],
   "source": [
    "%%time\n",
    "# 构建优化器\n",
    "optimiser = leidenalg.Optimiser()\n",
    "profile = optimiser.resolution_profile(G, \n",
    "                                       leidenalg.CPMVertexPartition,\n",
    "                                       resolution_range=(0,1)\n",
    "                                      )"
   ]
  },
  {
   "cell_type": "markdown",
   "id": "0e8a32f4",
   "metadata": {},
   "source": [
    "### （4）使用Leidenalg进行聚类"
   ]
  },
  {
   "cell_type": "code",
   "execution_count": null,
   "id": "ae261b32",
   "metadata": {},
   "outputs": [],
   "source": [
    "%%time\n",
    "part = leidenalg.find_partition(G, \n",
    "                                leidenalg.CPMVertexPartition,\n",
    "                                weights = 'Weight',   \n",
    "                                # max_comm_size=1000,         \n",
    "                                resolution_parameter = 0.1  \n",
    "                               ) \n",
    "print(\"Modularity of this partition: \", ig.Graph.modularity(G, part))\n",
    "G.vs['cluster'] = part.membership\n",
    "vs = dt.Frame(list(zip(G.vs()[\"name\"],G.vs()[\"cluster\"])))\n",
    "vs.names = ('id', 'cluster')\n",
    "vs.to_csv('allPapers_globalCluster_weighted.csv')"
   ]
  },
  {
   "cell_type": "code",
   "execution_count": null,
   "id": "83f398ee",
   "metadata": {},
   "outputs": [],
   "source": []
  }
 ],
 "metadata": {
  "kernelspec": {
   "display_name": "Python 3",
   "language": "python",
   "name": "python3"
  },
  "language_info": {
   "codemirror_mode": {
    "name": "ipython",
    "version": 3
   },
   "file_extension": ".py",
   "mimetype": "text/x-python",
   "name": "python",
   "nbconvert_exporter": "python",
   "pygments_lexer": "ipython3",
   "version": "3.8.8"
  }
 },
 "nbformat": 4,
 "nbformat_minor": 5
}
