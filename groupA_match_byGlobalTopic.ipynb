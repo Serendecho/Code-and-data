{
 "cells": [
  {
   "cell_type": "markdown",
   "id": "5e1f70a7",
   "metadata": {},
   "source": [
    "# 获取A组人-诺奖得主的获奖主题合作者"
   ]
  },
  {
   "cell_type": "code",
   "execution_count": 1,
   "id": "ac1a66f8",
   "metadata": {},
   "outputs": [],
   "source": [
    "import json\n",
    "import pandas as pd\n",
    "import Ipynb_importer  \n",
    "import Module2_get_collasInfo_name2id as Module2"
   ]
  },
  {
   "cell_type": "code",
   "execution_count": null,
   "id": "98c4e2e7",
   "metadata": {},
   "outputs": [],
   "source": [
    "dirPath_3 = 'D:/Anaconda/Code_and_Data/8.1 Nobel_Prize_Analyze_apsNew/results-datasets/'"
   ]
  },
  {
   "cell_type": "markdown",
   "id": "315806d4",
   "metadata": {},
   "source": [
    "### 获取所有诺奖得主的发表在获奖主题下的合作者"
   ]
  },
  {
   "cell_type": "code",
   "execution_count": 5,
   "id": "8d4826ee",
   "metadata": {},
   "outputs": [],
   "source": [
    "from tkinter import _flatten"
   ]
  },
  {
   "cell_type": "markdown",
   "id": "e2981912",
   "metadata": {},
   "source": [
    "#### 函数：获取给定作者的发文主题信息，如果其发文主题与待删除的主题有重合，则需要删除该作者"
   ]
  },
  {
   "cell_type": "code",
   "execution_count": 6,
   "id": "dafd5cc1",
   "metadata": {},
   "outputs": [],
   "source": [
    "def del_author_underTopics_func(author_id, del_topic_list, allAuthors_to_topicInfo_dict):\n",
    "    \n",
    "    topic_dict_i = allAuthors_to_topicInfo_dict[author_id]\n",
    "    topic_list_i = list(topic_dict_i.keys())\n",
    "    \n",
    "    if set(topic_list_i) & set(del_topic_list):\n",
    "        return True\n",
    "    else:\n",
    "        return False"
   ]
  },
  {
   "cell_type": "markdown",
   "id": "55ef7bd3",
   "metadata": {},
   "source": [
    "#### 函数：获取所有诺奖得主在获奖主题下的合作者"
   ]
  },
  {
   "cell_type": "code",
   "execution_count": 7,
   "id": "29a7a8b8",
   "metadata": {},
   "outputs": [],
   "source": [
    "import os"
   ]
  },
  {
   "cell_type": "code",
   "execution_count": 8,
   "id": "95cf13ab",
   "metadata": {},
   "outputs": [],
   "source": [
    "def get_collas_underTopic_func(resolution_param, cluster_param='global_clusterNum'):\n",
    "    \n",
    "    path = dirPath_3 + '/1-paperAll-clustering-data-CCN/allAuthors_id2topicInfo_{0}/resolutionParam_{1}.json'.format(cluster_param,str(resolution_param))\n",
    "    with open(path,'r', encoding='utf-8-sig') as fr:\n",
    "        allAuthors_to_topicInfo_dict = json.load(fr)\n",
    "        \n",
    "    path_2 = dirPath_3 + '/allLaurs_id2prizeInfo_{0}/resolutionParam_{1}.json'.format(cluster_param, str(resolution_param))\n",
    "  \n",
    "    with open(path_2, 'r', encoding='utf-8-sig') as fr:\n",
    "        allLaurs_id2prizeInfo_dict = json.load(fr)\n",
    "    \n",
    "    path_4 = \"allAuthors_id2yearRange_dict.json\"\n",
    "    with open(path_4, 'r', encoding='utf-8') as fr_4:\n",
    "        allAuthors_id2yearRange_dict = json.load(fr_4)\n",
    "        \n",
    "    # 获取所有诺奖得主的ID列表   \n",
    "    laureatesId_list = list(allLaurs_id2prizeInfo_dict.keys())\n",
    "    allLaurs_prizeTopic_list_2d = [e['prizeTopic_'+cluster_param] for e in allLaurs_id2prizeInfo_dict.values()]\n",
    "    allLaurs_prizeTopic_list = _flatten(allLaurs_prizeTopic_list_2d) \n",
    "    \n",
    "    allLaurs_collas_underTopic_dict = {}\n",
    "    for laurId_i in laureatesId_list:\n",
    "        # 获取合作者待选列表1（已去掉该诺奖得主本身）\n",
    "        temp_list_1 = Module2.authorId_to_collasId_func(author_id_i=laurId_i,                                  \n",
    "                                                        authorInfo_dict_i=allLaurs_id2prizeInfo_dict[laurId_i],\n",
    "                                                        name_parameter='laurName_json',                         \n",
    "                                                        dict_parameter='doi_underPrizeTopic_beforePrize_'+cluster_param \n",
    "                                                       )\n",
    "        # 从待选列表1中去掉所有诺奖得主，作为合作者待选列表2\n",
    "        temp_list_2 = [e for e in temp_list_1 if e not in laureatesId_list]\n",
    "        if \"_\" in laurId_i:\n",
    "            temp_list_2 = [e for e in temp_list_2 if e != laurId_i.split(\"_\")[0]]\n",
    "            \n",
    "        # 从待选列表2中去掉发文主题包括任一获奖主题的合作者（全局主题）\n",
    "        temp_list_3 = [e for e in temp_list_2 if not del_author_underTopics_func(e, allLaurs_prizeTopic_list, allAuthors_to_topicInfo_dict)] \n",
    "    \n",
    "        #2023.6.8更新：合作者的发文年份区间应该包括诺奖得主的获奖年份    \n",
    "        prize_year_i = allLaurs_id2prizeInfo_dict[laurId_i]['prize_year']\n",
    "        temp_list_4 = [e for e in temp_list_3 if ((prize_year_i>=allAuthors_id2yearRange_dict[e]['start_pubYear'])&(prize_year_i < allAuthors_id2yearRange_dict[e]['end_pubYear']))]\n",
    "        allLaurs_collas_underTopic_dict[laurId_i] = temp_list_4\n",
    "        print('Laureate {0} (prize year:{1}) has {2} collaborators under the prize topic before awards'.format(laurId_i, prize_year_i, len(temp_list_4)))\n",
    "        \n",
    "    path_3 = dirPath_3 + '/3-groupA-matching/allLaurs_id2groupAList_{0}/resolutionParam_{1}.json'.format(cluster_param, str(resolution_param))\n",
    "    with open(path_3, 'w', encoding='utf-8-sig') as fw:\n",
    "        json.dump(allLaurs_collas_underTopic_dict, fw)\n",
    "        \n",
    "    return allLaurs_collas_underTopic_dict"
   ]
  },
  {
   "cell_type": "code",
   "execution_count": 9,
   "id": "b9f8c5cd",
   "metadata": {
    "scrolled": true
   },
   "outputs": [
    {
     "name": "stdout",
     "output_type": "stream",
     "text": [
      "Laureate 52053 (prize year:1927) has 1 collaborators under the prize topic before awards\n",
      "Laureate 214128 (prize year:1933) has 0 collaborators under the prize topic before awards\n",
      "Laureate 191584 (prize year:1934) has 3 collaborators under the prize topic before awards\n",
      "Laureate 170885 (prize year:1936) has 0 collaborators under the prize topic before awards\n",
      "Laureate 72952 (prize year:1937) has 0 collaborators under the prize topic before awards\n",
      "Laureate 227773 (prize year:1939) has 0 collaborators under the prize topic before awards\n",
      "Laureate 202601 (prize year:1944) has 2 collaborators under the prize topic before awards\n",
      "Laureate 183444 (prize year:1946) has 0 collaborators under the prize topic before awards\n",
      "Laureate 125815 (prize year:1949) has 0 collaborators under the prize topic before awards\n",
      "Laureate 94445 (prize year:1949) has 0 collaborators under the prize topic before awards\n",
      "Laureate 23352 (prize year:1951) has 0 collaborators under the prize topic before awards\n",
      "Laureate 170028 (prize year:1951) has 0 collaborators under the prize topic before awards\n",
      "Laureate 152323 (prize year:1952) has 0 collaborators under the prize topic before awards\n",
      "Laureate 142868 (prize year:1952) has 0 collaborators under the prize topic before awards\n",
      "Laureate 7060 (prize year:1955) has 2 collaborators under the prize topic before awards\n",
      "Laureate 19126 (prize year:1955) has 0 collaborators under the prize topic before awards\n",
      "Laureate 165388_1956 (prize year:1956) has 0 collaborators under the prize topic before awards\n",
      "Laureate 165388_1972 (prize year:1972) has 0 collaborators under the prize topic before awards\n",
      "Laureate 67560 (prize year:1956) has 0 collaborators under the prize topic before awards\n",
      "Laureate 25747 (prize year:1956) has 3 collaborators under the prize topic before awards\n",
      "Laureate 42221 (prize year:1957) has 0 collaborators under the prize topic before awards\n",
      "Laureate 186323 (prize year:1957) has 0 collaborators under the prize topic before awards\n",
      "Laureate 195058 (prize year:1959) has 0 collaborators under the prize topic before awards\n",
      "Laureate 233403 (prize year:1959) has 0 collaborators under the prize topic before awards\n",
      "Laureate 59311 (prize year:1960) has 0 collaborators under the prize topic before awards\n",
      "Laureate 110577 (prize year:1961) has 0 collaborators under the prize topic before awards\n",
      "Laureate 27059 (prize year:1962) has 0 collaborators under the prize topic before awards\n",
      "Laureate 138251 (prize year:1963) has 1 collaborators under the prize topic before awards\n",
      "Laureate 28081 (prize year:1963) has 0 collaborators under the prize topic before awards\n",
      "Laureate 155444 (prize year:1963) has 1 collaborators under the prize topic before awards\n",
      "Laureate 7733 (prize year:1964) has 2 collaborators under the prize topic before awards\n",
      "Laureate 149553 (prize year:1965) has 0 collaborators under the prize topic before awards\n",
      "Laureate 87585 (prize year:1965) has 1 collaborators under the prize topic before awards\n",
      "Laureate 114544 (prize year:1965) has 0 collaborators under the prize topic before awards\n",
      "Laureate 103834 (prize year:1967) has 1 collaborators under the prize topic before awards\n",
      "Laureate 111984 (prize year:1968) has 3 collaborators under the prize topic before awards\n",
      "Laureate 59830 (prize year:1968) has 0 collaborators under the prize topic before awards\n",
      "Laureate 73416 (prize year:1969) has 0 collaborators under the prize topic before awards\n",
      "Laureate 123179 (prize year:1970) has 0 collaborators under the prize topic before awards\n",
      "Laureate 227647 (prize year:1972) has 1 collaborators under the prize topic before awards\n",
      "Laureate 214183 (prize year:1972) has 1 collaborators under the prize topic before awards\n",
      "Laureate 189547 (prize year:1973) has 2 collaborators under the prize topic before awards\n",
      "Laureate 165554 (prize year:1973) has 0 collaborators under the prize topic before awards\n",
      "Laureate 121036 (prize year:1975) has 0 collaborators under the prize topic before awards\n",
      "Laureate 225759 (prize year:1975) has 0 collaborators under the prize topic before awards\n",
      "Laureate 151196 (prize year:1975) has 0 collaborators under the prize topic before awards\n",
      "Laureate 48061 (prize year:1976) has 0 collaborators under the prize topic before awards\n",
      "Laureate 155292 (prize year:1976) has 0 collaborators under the prize topic before awards\n",
      "Laureate 53647 (prize year:1977) has 0 collaborators under the prize topic before awards\n",
      "Laureate 128643 (prize year:1977) has 0 collaborators under the prize topic before awards\n",
      "Laureate 115009 (prize year:1979) has 7 collaborators under the prize topic before awards\n",
      "Laureate 9460 (prize year:1980) has 2 collaborators under the prize topic before awards\n",
      "Laureate 62069 (prize year:1980) has 0 collaborators under the prize topic before awards\n",
      "Laureate 149547 (prize year:1981) has 0 collaborators under the prize topic before awards\n",
      "Laureate 21075 (prize year:1981) has 9 collaborators under the prize topic before awards\n",
      "Laureate 80536 (prize year:1982) has 3 collaborators under the prize topic before awards\n",
      "Laureate 136222 (prize year:1983) has 4 collaborators under the prize topic before awards\n",
      "Laureate 120818 (prize year:1985) has 0 collaborators under the prize topic before awards\n",
      "Laureate 36588 (prize year:1986) has 0 collaborators under the prize topic before awards\n",
      "Laureate 152631 (prize year:1986) has 0 collaborators under the prize topic before awards\n",
      "Laureate 20012 (prize year:1988) has 4 collaborators under the prize topic before awards\n",
      "Laureate 86479 (prize year:1988) has 3 collaborators under the prize topic before awards\n",
      "Laureate 183826 (prize year:1988) has 4 collaborators under the prize topic before awards\n",
      "Laureate 17928 (prize year:1989) has 3 collaborators under the prize topic before awards\n",
      "Laureate 218326 (prize year:1989) has 5 collaborators under the prize topic before awards\n",
      "Laureate 86439 (prize year:1990) has 12 collaborators under the prize topic before awards\n",
      "Laureate 88877 (prize year:1990) has 12 collaborators under the prize topic before awards\n",
      "Laureate 26063 (prize year:1990) has 12 collaborators under the prize topic before awards\n",
      "Laureate 145318 (prize year:1994) has 2 collaborators under the prize topic before awards\n",
      "Laureate 17832 (prize year:1994) has 1 collaborators under the prize topic before awards\n",
      "Laureate 7824 (prize year:1995) has 0 collaborators under the prize topic before awards\n",
      "Laureate 168238 (prize year:1995) has 3 collaborators under the prize topic before awards\n",
      "Laureate 15406 (prize year:1996) has 0 collaborators under the prize topic before awards\n",
      "Laureate 233788 (prize year:1996) has 3 collaborators under the prize topic before awards\n",
      "Laureate 208247 (prize year:1996) has 7 collaborators under the prize topic before awards\n",
      "Laureate 163868 (prize year:1997) has 12 collaborators under the prize topic before awards\n",
      "Laureate 128215 (prize year:1997) has 0 collaborators under the prize topic before awards\n",
      "Laureate 217264 (prize year:1998) has 1 collaborators under the prize topic before awards\n",
      "Laureate 118827 (prize year:1998) has 0 collaborators under the prize topic before awards\n",
      "Laureate 154774 (prize year:1998) has 8 collaborators under the prize topic before awards\n",
      "Laureate 219005 (prize year:1998) has 12 collaborators under the prize topic before awards\n",
      "Laureate 21346 (prize year:2000) has 1 collaborators under the prize topic before awards\n",
      "Laureate 202737 (prize year:2000) has 1 collaborators under the prize topic before awards\n",
      "Laureate 66613 (prize year:2000) has 3 collaborators under the prize topic before awards\n",
      "Laureate 235333 (prize year:2000) has 19 collaborators under the prize topic before awards\n",
      "Laureate 197076 (prize year:2001) has 17 collaborators under the prize topic before awards\n",
      "Laureate 22163 (prize year:2002) has 0 collaborators under the prize topic before awards\n",
      "Laureate 199533 (prize year:2002) has 0 collaborators under the prize topic before awards\n",
      "Laureate 33837 (prize year:2002) has 0 collaborators under the prize topic before awards\n",
      "Laureate 89213 (prize year:2003) has 2 collaborators under the prize topic before awards\n",
      "Laureate 147022 (prize year:2004) has 2 collaborators under the prize topic before awards\n",
      "Laureate 212002 (prize year:2004) has 3 collaborators under the prize topic before awards\n",
      "Laureate 149768 (prize year:2004) has 0 collaborators under the prize topic before awards\n"
     ]
    },
    {
     "name": "stdout",
     "output_type": "stream",
     "text": [
      "Laureate 38406 (prize year:2005) has 7 collaborators under the prize topic before awards\n",
      "Laureate 58239 (prize year:2005) has 1 collaborators under the prize topic before awards\n",
      "Laureate 16766 (prize year:2005) has 0 collaborators under the prize topic before awards\n",
      "Laureate 41881 (prize year:2007) has 21 collaborators under the prize topic before awards\n",
      "Laureate 184144 (prize year:2007) has 0 collaborators under the prize topic before awards\n",
      "Laureate 163381 (prize year:2008) has 2 collaborators under the prize topic before awards\n",
      "Laureate 76472 (prize year:2011) has 0 collaborators under the prize topic before awards\n",
      "Laureate 224335 (prize year:2012) has 15 collaborators under the prize topic before awards\n",
      "Laureate 144702 (prize year:2012) has 9 collaborators under the prize topic before awards\n",
      "Laureate 160713 (prize year:2013) has 0 collaborators under the prize topic before awards\n",
      "Laureate 124824 (prize year:2013) has 0 collaborators under the prize topic before awards\n",
      "Laureate 145852 (prize year:2015) has 0 collaborators under the prize topic before awards\n",
      "Laureate 93304 (prize year:2015) has 4 collaborators under the prize topic before awards\n",
      "Laureate 195513 (prize year:2016) has 0 collaborators under the prize topic before awards\n"
     ]
    }
   ],
   "source": [
    "allLaurs_collas_underTopic_dict_1 = get_collas_underTopic_func(resolution_param=0.1, cluster_param='global_clusterNum')"
   ]
  },
  {
   "cell_type": "code",
   "execution_count": null,
   "id": "2f40ddfb",
   "metadata": {},
   "outputs": [],
   "source": []
  }
 ],
 "metadata": {
  "kernelspec": {
   "display_name": "Python 3",
   "language": "python",
   "name": "python3"
  },
  "language_info": {
   "codemirror_mode": {
    "name": "ipython",
    "version": 3
   },
   "file_extension": ".py",
   "mimetype": "text/x-python",
   "name": "python",
   "nbconvert_exporter": "python",
   "pygments_lexer": "ipython3",
   "version": "3.8.8"
  }
 },
 "nbformat": 4,
 "nbformat_minor": 5
}
